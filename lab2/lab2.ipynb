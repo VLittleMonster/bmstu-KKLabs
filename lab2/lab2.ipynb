{
 "cells": [
  {
   "attachments": {},
   "cell_type": "markdown",
   "metadata": {},
   "source": [
    "***Лабораторная работа 2***"
   ]
  },
  {
   "attachments": {},
   "cell_type": "markdown",
   "metadata": {},
   "source": [
    "Постройте программу, которая в качестве входа принимает произвольную КС-грамматику G = (N, ∑, P, S) и преобразует ее в эквивалентную КС-грамматику G' = (N', ∑', P', S') без левой рекурсии ($$ ||) не содержащую недостижимых символов."
   ]
  },
  {
   "cell_type": "code",
   "execution_count": 31,
   "metadata": {},
   "outputs": [],
   "source": [
    "class Rule:\n",
    "    def __init__(self, left: str, right:list[str]):\n",
    "        self.left = left\n",
    "        self.right = right.copy()\n",
    "\n",
    "class Grammar:\n",
    "    nonterminals = []\n",
    "    terminals = []\n",
    "    rules = []\n",
    "    axiom = ''\n",
    "\n",
    "    def __init__(self, nonterminals: list[str], terminals: list[str], rules: list[Rule], axiom: str):\n",
    "        self.nonterminals = nonterminals\n",
    "        self.terminals = terminals\n",
    "        self.rules = rules\n",
    "        self.axiom = axiom\n",
    "    \n",
    "    def print(self, std=True, md=True):\n",
    "        output = \"\"\n",
    "        output += \"[{:}] [{:}] {:}\\n\".format(\",\".join(sorted(self.nonterminals)), \",\".join(sorted(self.terminals)), self.axiom) \n",
    "\n",
    "        for nonterminals in sorted(self.nonterminals):\n",
    "            rules = list(filter(lambda x: x.left == nonterminals, self.rules))\n",
    "            if not len(rules):\n",
    "                continue\n",
    "            \n",
    "            output += '\\n' + ( nonterminals + \" -> \" + \" | \".join(sorted(map(lambda x: \" \".join(x.right) if len(x.right) else '\\epsilon', rules))))\n",
    "        if std:\n",
    "            print(output)\n",
    "        \n",
    "        if md:\n",
    "            output = \"\\n\\n\".join(map(lambda x: '$' + x.replace('->', '\\\\rightarrow') + '$' if len(x) else '', output.split('\\n')))\n",
    "\n",
    "        return output\n",
    "    def show(self):\n",
    "        import IPython\n",
    "\n",
    "        return IPython.display.Markdown(self.print(std=False))\n",
    "    @staticmethod\n",
    "    def parse_grammar(text):\n",
    "        nonterminals, t, a = text.split('\\n')[0].split(' ')\n",
    "        nonterminals = nonterminals[1:-1].split(',')\n",
    "        t = t[1:-1].split(',')\n",
    "        \n",
    "        rules = []\n",
    "\n",
    "        for string in text.split('\\n')[1:]:\n",
    "            if not len(string):\n",
    "                continue\n",
    "            \n",
    "            left, right = string.split(' -> ')\n",
    "\n",
    "            for rule in right.split(' | '):\n",
    "                data = rule.split(' ')\n",
    "                if data[0] == '\\epsilon':\n",
    "                    data = []\n",
    "                rules.append(\n",
    "                    Rule(left, data)\n",
    "                )\n",
    "        return Grammar(nonterminals, t, rules, a)"
   ]
  },
  {
   "cell_type": "code",
   "execution_count": 32,
   "metadata": {},
   "outputs": [
    {
     "data": {
      "text/markdown": [
       "$[A,B,C,D] [a,b,c] A$\n",
       "\n",
       "\n",
       "\n",
       "$A \\rightarrow A a | B | a$\n",
       "\n",
       "$B \\rightarrow C b $\n",
       "\n",
       "$C \\rightarrow B c$\n",
       "\n",
       "$D \\rightarrow A$"
      ],
      "text/plain": [
       "<IPython.core.display.Markdown object>"
      ]
     },
     "metadata": {},
     "output_type": "display_data"
    }
   ],
   "source": [
    "grammar = Grammar.parse_grammar(\n",
    "\"\"\"[A,B,C,D] [a,b,c] A\n",
    "A -> A a | a | B\n",
    "B -> C b \n",
    "C -> B c\n",
    "D -> A\n",
    "\"\"\")\n",
    "display(grammar.show())"
   ]
  },
  {
   "attachments": {},
   "cell_type": "markdown",
   "metadata": {},
   "source": [
    "Устранение левой рекурсии (для всех)"
   ]
  },
  {
   "cell_type": "code",
   "execution_count": 33,
   "metadata": {},
   "outputs": [],
   "source": [
    "def LR_elimination(g: Grammar):\n",
    "    new_rules: list[Rule] = g.rules.copy()\n",
    "\n",
    "    nts = g.nonterminals.copy()\n",
    "\n",
    "    for i, i_nt in enumerate(g.nonterminals):\n",
    "        for j_nt in g.nonterminals[:i]:\n",
    "            rules = filter(lambda x: x.left == i_nt and len(x.right) and x.right[0] == j_nt, new_rules)\n",
    "            for rule in rules:\n",
    "                new_rules.remove(rule)\n",
    "                m_rules = filter(lambda x: x.left == j_nt, new_rules)\n",
    "                for m_rule in m_rules:\n",
    "                    new_rules.append(\n",
    "                        Rule(\n",
    "                            i_nt, m_rule.right + rule.right[1:]\n",
    "                        )\n",
    "                    )\n",
    "        rules = list(filter(lambda x: x.left == i_nt, new_rules))\n",
    "        need_modify = False\n",
    "        for rule in rules:\n",
    "            if len(rule.right) and rule.right[0] == i_nt:\n",
    "                need_modify = True\n",
    "                break\n",
    "                \n",
    "        if need_modify:\n",
    "            new_nt = i_nt + \"'\"\n",
    "            nts += [new_nt]\n",
    "\n",
    "            for rule in rules:\n",
    "                new_rules.remove(rule)\n",
    "                if len(rule.right) and rule.right[0] == i_nt:\n",
    "                    new_rules += [\n",
    "                        Rule(new_nt, rule.right[1:]),\n",
    "                        Rule(new_nt, rule.right[1:] + [new_nt]),\n",
    "                    ]\n",
    "                else:\n",
    "                    new_rules += [\n",
    "                        Rule(rule.left, rule.right.copy()),\n",
    "                        Rule(rule.left, rule.right + [new_nt]),\n",
    "                    ]\n",
    "        \n",
    "    return Grammar(nts, g.terminals.copy(), new_rules, g.axiom)"
   ]
  },
  {
   "attachments": {},
   "cell_type": "markdown",
   "metadata": {},
   "source": [
    "Устранение недостижимых символов (по варианту 1)"
   ]
  },
  {
   "cell_type": "code",
   "execution_count": 34,
   "metadata": {},
   "outputs": [],
   "source": [
    "def UnRS_elimination(g: Grammar):\n",
    "    queue = [g.axiom]\n",
    "    nts = [ g.axiom]\n",
    "\n",
    "    new_rules = []\n",
    "\n",
    "    while len(queue):\n",
    "        nonterminals = queue.pop(0)\n",
    "\n",
    "        for rule in filter(lambda x: x.left == nonterminals, g.rules):\n",
    "            new_rules.append(rule)\n",
    "            for symbol in rule.right:\n",
    "                if symbol in g.nonterminals and symbol not in nts:\n",
    "                    nts.append(symbol)\n",
    "                    queue.append(symbol)\n",
    "\n",
    "    return Grammar(nts, g.terminals, new_rules, g.axiom)"
   ]
  },
  {
   "cell_type": "code",
   "execution_count": 35,
   "metadata": {},
   "outputs": [
    {
     "name": "stdout",
     "output_type": "stream",
     "text": [
      "----------------------   Исходная грамматика   ---------------------------\n"
     ]
    },
    {
     "data": {
      "text/markdown": [
       "$[A,B,C,D] [a,b,c] A$\n",
       "\n",
       "\n",
       "\n",
       "$A \\rightarrow A a | B | a$\n",
       "\n",
       "$B \\rightarrow C b $\n",
       "\n",
       "$C \\rightarrow B c$\n",
       "\n",
       "$D \\rightarrow A$"
      ],
      "text/plain": [
       "<IPython.core.display.Markdown object>"
      ]
     },
     "metadata": {},
     "output_type": "display_data"
    },
    {
     "name": "stdout",
     "output_type": "stream",
     "text": [
      "------------------   Грамматика без левой рекурсии   ---------------------\n"
     ]
    },
    {
     "data": {
      "text/markdown": [
       "$[A,A',B,C,C',D] [a,b,c] A$\n",
       "\n",
       "\n",
       "\n",
       "$A \\rightarrow B | B A' | a | a A'$\n",
       "\n",
       "$A' \\rightarrow a | a A'$\n",
       "\n",
       "$B \\rightarrow C b $\n",
       "\n",
       "$C' \\rightarrow b  c | b  c C'$\n",
       "\n",
       "$D \\rightarrow B A' | a | a A'$"
      ],
      "text/plain": [
       "<IPython.core.display.Markdown object>"
      ]
     },
     "metadata": {},
     "output_type": "display_data"
    },
    {
     "name": "stdout",
     "output_type": "stream",
     "text": [
      "--------------   Грамматика без недостижимых символов   ------------------\n"
     ]
    },
    {
     "data": {
      "text/markdown": [
       "$[A,B,C] [a,b,c] A$\n",
       "\n",
       "\n",
       "\n",
       "$A \\rightarrow A a | B | a$\n",
       "\n",
       "$B \\rightarrow C b $\n",
       "\n",
       "$C \\rightarrow B c$"
      ],
      "text/plain": [
       "<IPython.core.display.Markdown object>"
      ]
     },
     "metadata": {},
     "output_type": "display_data"
    }
   ],
   "source": [
    "print('----------------------   Исходная грамматика   ---------------------------')\n",
    "display(grammar.show())\n",
    "print('------------------   Грамматика без левой рекурсии   ---------------------')\n",
    "display(LR_elimination(grammar).show())\n",
    "print('--------------   Грамматика без недостижимых символов   ------------------')\n",
    "display(UnRS_elimination(grammar).show())"
   ]
  }
 ],
 "metadata": {
  "kernelspec": {
   "display_name": "Python 3",
   "language": "python",
   "name": "python3"
  },
  "language_info": {
   "codemirror_mode": {
    "name": "ipython",
    "version": 3
   },
   "file_extension": ".py",
   "mimetype": "text/x-python",
   "name": "python",
   "nbconvert_exporter": "python",
   "pygments_lexer": "ipython3",
   "version": "3.11.4"
  },
  "orig_nbformat": 4
 },
 "nbformat": 4,
 "nbformat_minor": 2
}
